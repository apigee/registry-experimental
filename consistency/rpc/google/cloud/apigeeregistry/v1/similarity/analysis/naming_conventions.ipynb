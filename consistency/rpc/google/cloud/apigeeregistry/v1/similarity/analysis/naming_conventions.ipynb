{
 "cells": [
  {
   "cell_type": "code",
   "execution_count": 2,
   "metadata": {},
   "outputs": [],
   "source": [
    " \n",
    "import numpy as np\n",
    "import pandas as pd\n",
    "tagged_df = pd.read_csv (r'/home/gelaw/work-stuff/gocode/src/registry-experimental/consistency/rpc/google/cloud/apigeeregistry/v1/similarity/analysis/vocab1000.csv')\n",
    "tagged_df = tagged_df.drop(tagged_df.index[1000:])\n",
    "word_labels = tagged_df.iloc[:, 0]\n",
    "word_labels = word_labels.to_numpy()\n",
    "tagged_words = tagged_df.iloc[:, 1]\n",
    "tagged_words = tagged_words.to_numpy()\n",
    "data = tagged_words"
   ]
  },
  {
   "cell_type": "code",
   "execution_count": 6,
   "metadata": {},
   "outputs": [],
   "source": [
    "from inflection import camelize\n",
    "\n",
    "def is_camel_case(s):\n",
    "    # return True for both 'CamelCase' and 'camelCase'\n",
    "    return camelize(s, uppercase_first_letter=True) == s or camelize(s, uppercase_first_letter=False) == s"
   ]
  },
  {
   "cell_type": "code",
   "execution_count": 7,
   "metadata": {},
   "outputs": [
    {
     "data": {
      "text/plain": [
       "False"
      ]
     },
     "execution_count": 7,
     "metadata": {},
     "output_type": "execute_result"
    }
   ],
   "source": [
    "is_camel_case(\"abenzer_gelaw\")"
   ]
  },
  {
   "cell_type": "code",
   "execution_count": null,
   "metadata": {},
   "outputs": [],
   "source": []
  }
 ],
 "metadata": {
  "interpreter": {
   "hash": "916dbcbb3f70747c44a77c7bcd40155683ae19c65e1c03b4aa3499c5328201f1"
  },
  "kernelspec": {
   "display_name": "Python 3.9.2 64-bit",
   "language": "python",
   "name": "python3"
  },
  "language_info": {
   "codemirror_mode": {
    "name": "ipython",
    "version": 3
   },
   "file_extension": ".py",
   "mimetype": "text/x-python",
   "name": "python",
   "nbconvert_exporter": "python",
   "pygments_lexer": "ipython3",
   "version": "3.9.2"
  },
  "orig_nbformat": 4
 },
 "nbformat": 4,
 "nbformat_minor": 2
}
