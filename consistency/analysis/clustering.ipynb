{
 "cells": [
  {
   "cell_type": "code",
   "execution_count": 1,
   "metadata": {},
   "outputs": [],
   "source": [
    "import scipy \n",
    "import numpy as np\n",
    "import strsimpy \n",
    "from Bio import pairwise2\n",
    "from Bio.Seq import Seq \n",
    "from Bio.pairwise2 import format_alignment \n",
    "import matplotlib.pyplot as plt\n",
    "import pandas as pd\n",
    "from sklearn.cluster import dbscan\n",
    "from strsimpy.levenshtein import Levenshtein\n",
    "from strsimpy.normalized_levenshtein import NormalizedLevenshtein\n",
    "from strsimpy.jaro_winkler import JaroWinkler\n",
    "from strsimpy.longest_common_subsequence import LongestCommonSubsequence\n",
    "from strsimpy.metric_lcs import MetricLCS\n",
    "from strsimpy.ngram import NGram\n",
    "from strsimpy.sorensen_dice import SorensenDice\n",
    "from strsimpy import SIFT4\n",
    "from sklearn.metrics.cluster import homogeneity_score\n",
    "from sklearn.metrics.cluster import completeness_score \n",
    "from sklearn.metrics.cluster import v_measure_score\n",
    "\n",
    "\n"
   ]
  },
  {
   "cell_type": "code",
   "execution_count": 2,
   "metadata": {},
   "outputs": [],
   "source": [
    "levenshtein = Levenshtein()\n",
    "normalized_levenshtein = NormalizedLevenshtein()\n",
    "lcs = LongestCommonSubsequence()\n",
    "metric_lcs = MetricLCS()\n",
    "fourgram = NGram(4)\n",
    "dice = SorensenDice(2)\n",
    "s = SIFT4()\n",
    "jarowinkler = JaroWinkler()"
   ]
  },
  {
   "cell_type": "code",
   "execution_count": 3,
   "metadata": {},
   "outputs": [],
   "source": [
    "\n",
    "tagged_df = pd.read_csv (r'/home/gelaw/work-stuff/gocode/src/registry-experimental/consistency/rpc/google/cloud/apigeeregistry/v1/similarity/algorithms /vocab1000.csv')\n",
    "tagged_df = tagged_df.drop(tagged_df.index[1000:])\n",
    "word_labels = tagged_df.iloc[:, 0]\n",
    "word_labels = word_labels.to_numpy()\n",
    "tagged_words = tagged_df.iloc[:, 1]\n",
    "tagged_words = tagged_words.to_numpy()"
   ]
  },
  {
   "cell_type": "code",
   "execution_count": 4,
   "metadata": {},
   "outputs": [],
   "source": [
    "def extract_indices_lv(x, y):\n",
    "    i, j = int(x[0]), int(y[0])     # extract indices\n",
    "    return levenshtein.distance(data[i], data[j])\n",
    "def extract_indices_nlv(x, y):\n",
    "    i, j = int(x[0]), int(y[0])     # extract indices\n",
    "    return normalized_levenshtein.distance(data[i], data[j])\n",
    "def extract_indices_jarowinkler(x, y):\n",
    "    i, j = int(x[0]), int(y[0])     # extract indices\n",
    "    return jarowinkler.distance(data[i], data[j])\n",
    "def extract_indices_lcs(x, y):\n",
    "    i, j = int(x[0]), int(y[0])     # extract indices\n",
    "    return lcs.distance(data[i], data[j])\n",
    "def extract_indices_dice(x, y):\n",
    "    i, j = int(x[0]), int(y[0])     # extract indices\n",
    "    return dice.distance(data[i], data[j])\n",
    "def extract_indices_sift4(x, y):\n",
    "    i, j = int(x[0]), int(y[0])     # extract indices\n",
    "    return s.distance(data[i], data[j])  "
   ]
  },
  {
   "cell_type": "code",
   "execution_count": 5,
   "metadata": {},
   "outputs": [],
   "source": [
    "def compute_predicted_lables(data, algorithm, dbscan_eps, dbscan_min_samples):\n",
    "    db = dbscan(data, metric=algorithm, eps=dbscan_eps, min_samples=dbscan_min_samples, algorithm='brute')\n",
    "    return db[1]"
   ]
  },
  {
   "cell_type": "code",
   "execution_count": 6,
   "metadata": {},
   "outputs": [],
   "source": [
    "data = tagged_words\n",
    "data = np.arange(len(data)).reshape(-1, 1)"
   ]
  },
  {
   "cell_type": "code",
   "execution_count": 7,
   "metadata": {},
   "outputs": [],
   "source": [
    "\n",
    "tagged_df = pd.read_csv (r' vocab1000.csv path ')\n",
    "tagged_df = tagged_df.drop(tagged_df.index[1000:])\n",
    "word_labels = tagged_df.iloc[:, 0]\n",
    "word_labels = word_labels.to_numpy()\n",
    "tagged_words = tagged_df.iloc[:, 1]\n",
    "tagged_words = tagged_words.to_numpy()\n",
    "data = tagged_words\n",
    "X = np.arange(len(data)).reshape(-1, 1)\n"
   ]
  },
  {
   "cell_type": "code",
   "execution_count": 8,
   "metadata": {},
   "outputs": [],
   "source": [
    "dbscan_eps_values =  [.1, .2, .3, .4, .5, .6, .7, .8, .9]\n",
    "dbscan_min_samples = [2, 3, 4, 5, 6, 7, 8, 9]\n",
    "best_eps = -1\n",
    "best_min_value = -1\n",
    "best_score = 0 \n",
    "for i in dbscan_eps_values:\n",
    "    for j in dbscan_min_samples:\n",
    "        lables = compute_predicted_lables(data = X, algorithm = extract_indices_dice, dbscan_eps = i, dbscan_min_samples = j)\n",
    "        current_score = v_measure_score(word_labels, lables)\n",
    "        if (current_score > best_score):\n",
    "            best_score = current_score\n",
    "            best_eps = i\n",
    "            best_min_value = j\n",
    "        #print(i, j, current_score)"
   ]
  },
  {
   "cell_type": "code",
   "execution_count": 9,
   "metadata": {},
   "outputs": [
    {
     "name": "stdout",
     "output_type": "stream",
     "text": [
      "0.3 2 0.8887501840948729\n"
     ]
    }
   ],
   "source": [
    "print(best_eps, best_min_value, best_score)\n",
    "optimals = {}\n",
    "optimals[dice]= best_eps, best_min_value, best_score"
   ]
  },
  {
   "cell_type": "code",
   "execution_count": 10,
   "metadata": {},
   "outputs": [],
   "source": [
    "best_eps = -1\n",
    "best_min_value = -1\n",
    "best_score = 0 \n",
    "for i in dbscan_eps_values:\n",
    "    for j in dbscan_min_samples:\n",
    "        lables = compute_predicted_lables(data = X, algorithm = extract_indices_jarowinkler, dbscan_eps = i, dbscan_min_samples = j)\n",
    "        current_score = v_measure_score(word_labels, lables)\n",
    "        if (current_score > best_score):\n",
    "            best_score = current_score\n",
    "            best_eps = i\n",
    "            best_min_value = j\n",
    "        #print(i, j, current_score)"
   ]
  },
  {
   "cell_type": "code",
   "execution_count": 11,
   "metadata": {},
   "outputs": [
    {
     "name": "stdout",
     "output_type": "stream",
     "text": [
      "0.1 2 0.8301625497707991\n"
     ]
    }
   ],
   "source": [
    "print(best_eps, best_min_value, best_score)\n",
    "optimals[jarowinkler]= best_eps, best_min_value, best_score"
   ]
  },
  {
   "cell_type": "code",
   "execution_count": 12,
   "metadata": {},
   "outputs": [],
   "source": [
    "best_eps = -1\n",
    "best_min_value = -1\n",
    "best_score = 0 \n",
    "for i in dbscan_eps_values:\n",
    "    for j in dbscan_min_samples:\n",
    "        lables = compute_predicted_lables(data = X, algorithm = extract_indices_sift4, dbscan_eps = i, dbscan_min_samples = j)\n",
    "        current_score = v_measure_score(word_labels, lables)\n",
    "        if (current_score > best_score):\n",
    "            best_score = current_score\n",
    "            best_eps = i\n",
    "            best_min_value = j\n",
    "        #print(i, j, current_score)"
   ]
  },
  {
   "cell_type": "code",
   "execution_count": 13,
   "metadata": {},
   "outputs": [
    {
     "name": "stdout",
     "output_type": "stream",
     "text": [
      "-1 -1 0\n"
     ]
    }
   ],
   "source": [
    "print(best_eps, best_min_value, best_score)\n",
    "optimals[s]= best_eps, best_min_value, best_score"
   ]
  },
  {
   "cell_type": "code",
   "execution_count": null,
   "metadata": {},
   "outputs": [],
   "source": [
    "best_eps = -1\n",
    "best_min_value = -1\n",
    "best_score = 0 \n",
    "for i in dbscan_eps_values:\n",
    "    for j in dbscan_min_samples:\n",
    "        lables = compute_predicted_lables (data = X, algorithm = extract_indices_lcs, dbscan_eps = i, dbscan_min_samples = j)\n",
    "        current_score = v_measure_score(word_labels, lables)\n",
    "        if (current_score > best_score):\n",
    "            best_score = current_score\n",
    "            best_eps = i\n",
    "            best_min_value = j\n",
    "        #print(i, j, current_score)"
   ]
  },
  {
   "cell_type": "code",
   "execution_count": null,
   "metadata": {},
   "outputs": [
    {
     "name": "stdout",
     "output_type": "stream",
     "text": [
      "-1 -1 0\n"
     ]
    }
   ],
   "source": [
    "print(best_eps, best_min_value, best_score)\n",
    "optimals[lcs]= best_eps, best_min_value, best_score"
   ]
  },
  {
   "cell_type": "code",
   "execution_count": null,
   "metadata": {},
   "outputs": [],
   "source": [
    "best_eps = -1\n",
    "best_min_value = -1\n",
    "best_score = 0 \n",
    "def extract_indices_fourgram(x, y):\n",
    "    i, j = int(x[0]), int(y[0])     # extract indices\n",
    "    return fourgram.distance(data[i], data[j])  \n",
    "\n",
    "for i in dbscan_eps_values:\n",
    "    for j in dbscan_min_samples:\n",
    "        lables = compute_predicted_lables(data = X, algorithm = extract_indices_fourgram, dbscan_eps = i, dbscan_min_samples = j)\n",
    "        current_score = v_measure_score(word_labels, lables)\n",
    "        if (current_score > best_score):\n",
    "            best_score = current_score\n",
    "            best_eps = i\n",
    "            best_min_value = j\n",
    "        #print(i, j, current_score)"
   ]
  },
  {
   "cell_type": "code",
   "execution_count": null,
   "metadata": {},
   "outputs": [
    {
     "name": "stdout",
     "output_type": "stream",
     "text": [
      "-1 -1 0\n"
     ]
    }
   ],
   "source": [
    "print(best_eps, best_min_value, best_score)\n",
    "optimals[fourgram]= best_eps, best_min_value, best_score"
   ]
  },
  {
   "cell_type": "code",
   "execution_count": null,
   "metadata": {},
   "outputs": [],
   "source": [
    "dbscan_eps_values =  [.1, .2, .3, .4, .5, .6, .7, .8, .9]\n",
    "dbscan_min_samples = [2, 3, 4, 5, 6, 7, 8, 9]\n",
    "best_eps = -1\n",
    "best_min_value = -1\n",
    "best_score = 0 \n",
    "for i in dbscan_eps_values:\n",
    "    for j in dbscan_min_samples:\n",
    "        lables = compute_predicted_lables(data = X, algorithm = extract_indices_nlv, dbscan_eps = i, dbscan_min_samples = j)\n",
    "        current_score = v_measure_score(word_labels, lables)\n",
    "        if (current_score > best_score):\n",
    "            best_score = current_score\n",
    "            best_eps = i\n",
    "            best_min_value = j\n",
    "        #print(i, j, current_score)"
   ]
  },
  {
   "cell_type": "code",
   "execution_count": null,
   "metadata": {},
   "outputs": [
    {
     "name": "stdout",
     "output_type": "stream",
     "text": [
      "-1 -1 0\n"
     ]
    }
   ],
   "source": [
    "print(best_eps, best_min_value, best_score)\n",
    "optimals[normalized_levenshtein]= best_eps, best_min_value, best_score"
   ]
  },
  {
   "cell_type": "code",
   "execution_count": null,
   "metadata": {},
   "outputs": [],
   "source": [
    "import csv\n",
    "with open('final_values.csv', 'w') as f:\n",
    "    for key in optimals.keys():\n",
    "        f.write(\"%s,%s\\n\"%(key,optimals[key]))"
   ]
  }
 ],
 "metadata": {
  "interpreter": {
   "hash": "916dbcbb3f70747c44a77c7bcd40155683ae19c65e1c03b4aa3499c5328201f1"
  },
  "kernelspec": {
   "display_name": "Python 3.9.2 64-bit",
   "language": "python",
   "name": "python3"
  },
  "language_info": {
   "codemirror_mode": {
    "name": "ipython",
    "version": 3
   },
   "file_extension": ".py",
   "mimetype": "text/x-python",
   "name": "python",
   "nbconvert_exporter": "python",
   "pygments_lexer": "ipython3",
   "version": "3.9.2"
  },
  "orig_nbformat": 4
 },
 "nbformat": 4,
 "nbformat_minor": 2
}
